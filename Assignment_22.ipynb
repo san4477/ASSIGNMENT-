{
 "cells": [
  {
   "cell_type": "code",
   "execution_count": null,
   "id": "03121254-93ed-4a76-945d-430ebd949016",
   "metadata": {},
   "outputs": [],
   "source": [
    "Number 1 -\n",
    "\n",
    "Question -\n",
    "Add the current date to the text file today.txt as a string.\n",
    "\n",
    "Answer -"
   ]
  },
  {
   "cell_type": "code",
   "execution_count": 1,
   "id": "7205ca27-91aa-494f-986e-2e761efbb186",
   "metadata": {},
   "outputs": [],
   "source": [
    "from datetime import date\n",
    "now = date.today()\n",
    "now_str = now.isoformat()\n",
    "with open('today.txt', 'wt') as output:\n",
    "    print(now_str, file=output)"
   ]
  },
  {
   "cell_type": "code",
   "execution_count": null,
   "id": "de255343-7ec9-4f55-b9e2-6789ede2ab94",
   "metadata": {},
   "outputs": [],
   "source": [
    "Number 2 -\n",
    "\n",
    "Question -\n",
    "Read the text file today.txt into the string today_string\n",
    "\n",
    "Answer -"
   ]
  },
  {
   "cell_type": "code",
   "execution_count": 2,
   "id": "922cbfc2-b712-46ec-b759-6f44b4ced875",
   "metadata": {},
   "outputs": [
    {
     "data": {
      "text/plain": [
       "'2022-12-28\\n'"
      ]
     },
     "execution_count": 2,
     "metadata": {},
     "output_type": "execute_result"
    }
   ],
   "source": [
    "with open('today.txt', 'rt') as input:\n",
    "    today_string = input.read()\n",
    "    \n",
    "today_string"
   ]
  },
  {
   "cell_type": "code",
   "execution_count": null,
   "id": "eb33900b-6677-4876-b799-80cb682296d6",
   "metadata": {},
   "outputs": [],
   "source": [
    "Number 3 -\n",
    "\n",
    "Question -\n",
    "Parse the date from today_string.\n",
    "\n",
    "Answer -"
   ]
  },
  {
   "cell_type": "code",
   "execution_count": 3,
   "id": "6b0e70df-8d5c-444c-a908-b297513b32f6",
   "metadata": {},
   "outputs": [
    {
     "data": {
      "text/plain": [
       "datetime.datetime(2022, 12, 28, 0, 0)"
      ]
     },
     "execution_count": 3,
     "metadata": {},
     "output_type": "execute_result"
    }
   ],
   "source": [
    "from datetime import datetime\n",
    "fmt = '%Y-%m-%d\\n'\n",
    "datetime.strptime(today_string, fmt)"
   ]
  },
  {
   "cell_type": "code",
   "execution_count": null,
   "id": "77a15ff5-8c33-441d-af72-59331dda6d45",
   "metadata": {},
   "outputs": [],
   "source": [
    "Number 4-\n",
    "\n",
    "Question -\n",
    "List the files in your current directory\n",
    "\n",
    "Answer -"
   ]
  },
  {
   "cell_type": "code",
   "execution_count": 4,
   "id": "8e8f9c86-fadd-4612-8530-e301e75c57dc",
   "metadata": {},
   "outputs": [
    {
     "data": {
      "text/plain": [
       "['README.md',\n",
       " 'test.txt',\n",
       " 'Untitled Folder',\n",
       " 'sample-code.ipynb',\n",
       " 'test3.ipynb',\n",
       " 'ineuron.txt',\n",
       " '.git',\n",
       " 'Assignment_20.ipynb',\n",
       " 'Assignments_19.ipynb',\n",
       " 'zoo.ipynb',\n",
       " 'iterablke1.ipynb',\n",
       " 'assignment1',\n",
       " 'Untitled1.ipynb',\n",
       " 'books.db',\n",
       " 'Untitled.ipynb',\n",
       " '.ipynb_checkpoints',\n",
       " 'today.txt',\n",
       " 'books.csv']"
      ]
     },
     "execution_count": 4,
     "metadata": {},
     "output_type": "execute_result"
    }
   ],
   "source": [
    "import os\n",
    "os.listdir('.')"
   ]
  },
  {
   "cell_type": "code",
   "execution_count": null,
   "id": "5ddd48b2-cefc-4002-b2ea-e48d8d514188",
   "metadata": {},
   "outputs": [],
   "source": [
    "Number 5 -\n",
    "\n",
    "Question -\n",
    "Create a list of all of the files in your parent directory (minimum five files should be available).\n",
    "\n",
    "Answer -"
   ]
  },
  {
   "cell_type": "code",
   "execution_count": 5,
   "id": "04c3a86a-89cc-4605-a343-e5d20521fb6e",
   "metadata": {},
   "outputs": [
    {
     "data": {
      "text/plain": [
       "['.profile',\n",
       " '.bash_logout',\n",
       " '.bashrc',\n",
       " '.ipython',\n",
       " '.cache',\n",
       " '.jupyter',\n",
       " '.local',\n",
       " '.conda',\n",
       " '.config',\n",
       " '.npm',\n",
       " '.wget-hsts',\n",
       " 'work']"
      ]
     },
     "execution_count": 5,
     "metadata": {},
     "output_type": "execute_result"
    }
   ],
   "source": [
    "os.listdir('..')"
   ]
  },
  {
   "cell_type": "code",
   "execution_count": null,
   "id": "cbfd1ea1-961b-4376-bccd-2cfbbb6ce998",
   "metadata": {},
   "outputs": [],
   "source": [
    "Number 6 -\n",
    "\n",
    "Question -\n",
    "Use multiprocessing to create three separate processes. Make each one wait a random number of seconds between one and five, print the current time, and then exit.\n",
    "\n",
    "Answer -"
   ]
  },
  {
   "cell_type": "code",
   "execution_count": 6,
   "id": "fdbc0b9b-9549-4ce4-a2f0-58576e6293a0",
   "metadata": {},
   "outputs": [
    {
     "name": "stdout",
     "output_type": "stream",
     "text": [
      "python: can't open file '/home/jovyan/work/multi_process.py': [Errno 2] No such file or directory\n"
     ]
    }
   ],
   "source": [
    "!python multi_process.py"
   ]
  },
  {
   "cell_type": "code",
   "execution_count": null,
   "id": "99b3d64d-c515-47d9-bb64-0f4669178bf5",
   "metadata": {},
   "outputs": [],
   "source": [
    "Number 7 -\n",
    "\n",
    "Question -\n",
    "Create a date object of your day of birth.\n",
    "\n",
    "Answer -"
   ]
  },
  {
   "cell_type": "code",
   "execution_count": 7,
   "id": "610bbba1-539c-40e0-8132-a026cbba72c8",
   "metadata": {},
   "outputs": [
    {
     "data": {
      "text/plain": [
       "datetime.date(1996, 8, 10)"
      ]
     },
     "execution_count": 7,
     "metadata": {},
     "output_type": "execute_result"
    }
   ],
   "source": [
    "my_day = date(1996, 8, 10)\n",
    "my_day"
   ]
  },
  {
   "cell_type": "code",
   "execution_count": null,
   "id": "69751e14-818d-47f2-9df6-d68a138a9449",
   "metadata": {},
   "outputs": [],
   "source": [
    "Number 8 -\n",
    "\n",
    "Question -\n",
    "What day of the week was your day of birth?\n",
    "\n",
    "Answer -"
   ]
  },
  {
   "cell_type": "code",
   "execution_count": 8,
   "id": "857f3612-e7aa-4115-9c80-f2fe710db37a",
   "metadata": {},
   "outputs": [
    {
     "ename": "SyntaxError",
     "evalue": "invalid syntax (2911976554.py, line 1)",
     "output_type": "error",
     "traceback": [
      "\u001b[0;36m  Cell \u001b[0;32mIn [8], line 1\u001b[0;36m\u001b[0m\n\u001b[0;31m    With weekday(), Monday is 0 and Sunday is 6. With isoweekday(), Monday is 1 and\u001b[0m\n\u001b[0m         ^\u001b[0m\n\u001b[0;31mSyntaxError\u001b[0m\u001b[0;31m:\u001b[0m invalid syntax\n"
     ]
    }
   ],
   "source": [
    "With weekday(), Monday is 0 and Sunday is 6. With isoweekday(), Monday is 1 and\n",
    "\n",
    "Sunday is 7. Therefore, this date is a Saturday."
   ]
  },
  {
   "cell_type": "code",
   "execution_count": 9,
   "id": "fbd15bae-95c6-417e-82d8-c2496da5a497",
   "metadata": {},
   "outputs": [
    {
     "data": {
      "text/plain": [
       "5"
      ]
     },
     "execution_count": 9,
     "metadata": {},
     "output_type": "execute_result"
    }
   ],
   "source": [
    "my_day.weekday()"
   ]
  },
  {
   "cell_type": "code",
   "execution_count": 10,
   "id": "7fe4a40f-9c99-47df-8fcf-7c9c6fdd5ed1",
   "metadata": {},
   "outputs": [
    {
     "data": {
      "text/plain": [
       "6"
      ]
     },
     "execution_count": 10,
     "metadata": {},
     "output_type": "execute_result"
    }
   ],
   "source": [
    "my_day.isoweekday()"
   ]
  },
  {
   "cell_type": "code",
   "execution_count": null,
   "id": "0b594080-843d-4313-ba74-51adfb298404",
   "metadata": {},
   "outputs": [],
   "source": [
    "Number 9 -\n",
    "\n",
    "Question -\n",
    "When will you be (or when were you) 10,000 days old?\n",
    "\n",
    "Answer -"
   ]
  },
  {
   "cell_type": "code",
   "execution_count": 11,
   "id": "6072a9da-6518-4a4e-aece-7a55cab9d840",
   "metadata": {},
   "outputs": [
    {
     "data": {
      "text/plain": [
       "datetime.date(2023, 12, 27)"
      ]
     },
     "execution_count": 11,
     "metadata": {},
     "output_type": "execute_result"
    }
   ],
   "source": [
    "from datetime import timedelta\n",
    "ten_thousand = my_day + timedelta(days=10000)\n",
    "ten_thousand"
   ]
  },
  {
   "cell_type": "code",
   "execution_count": null,
   "id": "cd553b7e-4ff6-48ca-a15f-3b1dfbffc0c0",
   "metadata": {},
   "outputs": [],
   "source": []
  }
 ],
 "metadata": {
  "kernelspec": {
   "display_name": "Python 3 (ipykernel)",
   "language": "python",
   "name": "python3"
  },
  "language_info": {
   "codemirror_mode": {
    "name": "ipython",
    "version": 3
   },
   "file_extension": ".py",
   "mimetype": "text/x-python",
   "name": "python",
   "nbconvert_exporter": "python",
   "pygments_lexer": "ipython3",
   "version": "3.10.6"
  }
 },
 "nbformat": 4,
 "nbformat_minor": 5
}
