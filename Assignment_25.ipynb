{
 "cells": [
  {
   "cell_type": "code",
   "execution_count": null,
   "id": "9a987e16-6750-4e85-97a0-cfb57791ccc1",
   "metadata": {},
   "outputs": [],
   "source": [
    "Number 1 -\n",
    "\n",
    "Question -\n",
    "What is the difference between enclosing a list comprehension in square brackets and parentheses?\n",
    "\n",
    "Answer -\n",
    "The difference between the two kinds of expressions is that the List comprehension is enclosed in \n",
    "square brackets [] while the Generator expression is enclosed in plain parentheses ()\n"
   ]
  },
  {
   "cell_type": "code",
   "execution_count": null,
   "id": "83567584-6726-49c8-8907-f1eb2bffea50",
   "metadata": {},
   "outputs": [],
   "source": [
    "Number 2 -\n",
    "\n",
    "Question -\n",
    "What is the relationship between generators and iterators?\n",
    "\n",
    "Answer -\n",
    "Generators : It is another way of creating iterators in a simple way where it uses the keyword “yield” instead of returning it in a\n",
    "defined function. Generators are implemented using a function. Just as iterators, generators also follow lazy evaluation. Here,\n",
    "the yield function returns the data without affecting or exiting the function. It will return a sequence of data in an iterable format \n",
    "where we need to iterate over the sequence to use the data as they won’t store the entire sequence in the memory.\n",
    "\n",
    "Iterators : An iterator is an object which contains a countable number of values and it is used to iterate over iterable objects like list, \n",
    "ples, sets, etc. Iterators are implemented using a class and a local variable for iterating is not required here, It follows \n",
    "lazy evaluation where the evaluation of the expression will be on hold and stored in the memory until the item is called specifically \n",
    "which helps us to avoid repeated evaluation. As lazy evaluation is implemented, it requires only 1 memory location to process the value\n",
    "and when we are using a large dataset then, wastage of RAM space will be reduced the need to load the entire dataset at the same time will \n",
    "not be there.\n"
   ]
  },
  {
   "cell_type": "code",
   "execution_count": null,
   "id": "938b5836-c7ae-4eb4-a581-765a2a06fed4",
   "metadata": {},
   "outputs": [],
   "source": [
    "\n",
    "Number 3 -\n",
    "\n",
    "Question -\n",
    "What are the signs that a function is a generator function?\n",
    "\n",
    "Answer -\n",
    "In a generator function, a yield statement is used rather than a return statement."
   ]
  }
 ],
 "metadata": {
  "kernelspec": {
   "display_name": "Python 3 (ipykernel)",
   "language": "python",
   "name": "python3"
  },
  "language_info": {
   "codemirror_mode": {
    "name": "ipython",
    "version": 3
   },
   "file_extension": ".py",
   "mimetype": "text/x-python",
   "name": "python",
   "nbconvert_exporter": "python",
   "pygments_lexer": "ipython3",
   "version": "3.10.6"
  }
 },
 "nbformat": 4,
 "nbformat_minor": 5
}
