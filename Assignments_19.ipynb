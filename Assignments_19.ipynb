{
 "cells": [
  {
   "cell_type": "code",
   "execution_count": null,
   "id": "7fff0fcf-1a4a-4d3e-a045-07b72fda4cc0",
   "metadata": {},
   "outputs": [],
   "source": [
    "Number 1 -\n",
    "\n",
    "Question -\n",
    "Make a class called Thing with no contents and print it. Then, create an object called example from this class and also print it. Are the printed values the same or different?\n",
    "\n",
    "Answer -"
   ]
  },
  {
   "cell_type": "code",
   "execution_count": 1,
   "id": "6d14e0a8-d60f-4024-a293-e6f4c30e8b2c",
   "metadata": {},
   "outputs": [
    {
     "name": "stdout",
     "output_type": "stream",
     "text": [
      "<class '__main__.Thing'>\n"
     ]
    }
   ],
   "source": [
    "class Thing:\n",
    "    pass\n",
    "print(Thing)"
   ]
  },
  {
   "cell_type": "code",
   "execution_count": 2,
   "id": "7e12b339-49ba-4bed-bcda-aab608e79ccc",
   "metadata": {},
   "outputs": [
    {
     "name": "stdout",
     "output_type": "stream",
     "text": [
      "<__main__.Thing object at 0x7f0686f73f70>\n"
     ]
    }
   ],
   "source": [
    "example = Thing()\n",
    "print(example)"
   ]
  },
  {
   "cell_type": "code",
   "execution_count": null,
   "id": "d4d71efc-74c4-4a2b-b1a2-8def63a99154",
   "metadata": {},
   "outputs": [],
   "source": [
    "Number 2 -\n",
    "\n",
    "Question -\n",
    "Create a new class called Thing2 and add the value 'abc' to the letters class attribute. Letters should be printed.\n",
    "\n",
    "Answer -\n"
   ]
  },
  {
   "cell_type": "code",
   "execution_count": 3,
   "id": "f857e7cf-dcc1-4664-91c1-4a0f75560283",
   "metadata": {},
   "outputs": [
    {
     "name": "stdout",
     "output_type": "stream",
     "text": [
      "abc\n"
     ]
    }
   ],
   "source": [
    "class Thing2:\n",
    "    letters = 'abc'\n",
    "print(Thing2.letters)\n"
   ]
  },
  {
   "cell_type": "code",
   "execution_count": null,
   "id": "02985a96-aa29-4d52-b70e-2220d2208fbe",
   "metadata": {},
   "outputs": [],
   "source": [
    "Number 3 -\n",
    "\n",
    "Question -\n",
    "Make yet another class called, of course, Thing3. This time, assign the value 'xyz' to an instance (object) attribute called letters. Print letters. Do you need to make an object from the class to do this?\n",
    "\n",
    "Answer -"
   ]
  },
  {
   "cell_type": "code",
   "execution_count": 4,
   "id": "17b7bd34-bd16-4b13-82ec-4b402087f780",
   "metadata": {},
   "outputs": [],
   "source": [
    "class Thing3:\n",
    "    def __init__(self):\n",
    "        self.letters = 'xyz'"
   ]
  },
  {
   "cell_type": "code",
   "execution_count": null,
   "id": "965e6a8c-a278-4590-a863-916020c09239",
   "metadata": {},
   "outputs": [],
   "source": [
    "#The variable letters belongs to any objects made from Thing3, not the Thing3 class itself:"
   ]
  },
  {
   "cell_type": "code",
   "execution_count": 5,
   "id": "60e659f5-5ca3-422d-a9a3-c4769aef0099",
   "metadata": {},
   "outputs": [
    {
     "ename": "AttributeError",
     "evalue": "type object 'Thing3' has no attribute 'letters'",
     "output_type": "error",
     "traceback": [
      "\u001b[0;31m---------------------------------------------------------------------------\u001b[0m",
      "\u001b[0;31mAttributeError\u001b[0m                            Traceback (most recent call last)",
      "Cell \u001b[0;32mIn [5], line 1\u001b[0m\n\u001b[0;32m----> 1\u001b[0m \u001b[38;5;28mprint\u001b[39m(\u001b[43mThing3\u001b[49m\u001b[38;5;241;43m.\u001b[39;49m\u001b[43mletters\u001b[49m)\n",
      "\u001b[0;31mAttributeError\u001b[0m: type object 'Thing3' has no attribute 'letters'"
     ]
    }
   ],
   "source": [
    "print(Thing3.letters)"
   ]
  },
  {
   "cell_type": "code",
   "execution_count": 6,
   "id": "492a42f4-fe96-4286-83d9-da3e805745ba",
   "metadata": {},
   "outputs": [
    {
     "name": "stdout",
     "output_type": "stream",
     "text": [
      "xyz\n"
     ]
    }
   ],
   "source": [
    "something = Thing3()\n",
    "print(something.letters)"
   ]
  },
  {
   "cell_type": "code",
   "execution_count": null,
   "id": "dc4bb16f-6864-493a-bf4c-460140c46a35",
   "metadata": {},
   "outputs": [],
   "source": [
    "Number 4 -\n",
    "\n",
    "Question -\n",
    "Create an Element class with the instance attributes name, symbol, and number. Create a class object with the values 'Hydrogen,' 'H,' and 1.\n",
    "\n",
    "Answer -"
   ]
  },
  {
   "cell_type": "code",
   "execution_count": 7,
   "id": "7107ec9d-9d37-40e0-9a89-3a7d7d0d289f",
   "metadata": {},
   "outputs": [],
   "source": [
    "class Element:\n",
    "    def __init__(self, name, symbol, number):\n",
    "        self.name = name\n",
    "        self.symbol = symbol\n",
    "        self.number = number\n",
    "hydrogen = Element('Hydrogen', 'H', 1)"
   ]
  },
  {
   "cell_type": "code",
   "execution_count": null,
   "id": "beb103b3-ba0c-478a-b516-dd24664b9338",
   "metadata": {},
   "outputs": [],
   "source": [
    "Number 5 -\n",
    "\n",
    "Question -\n",
    "Make a dictionary with these keys and values: 'name': 'Hydrogen', 'symbol': 'H', 'number': 1. Then, create an object called hydrogen from class Element using this dictionary.\n",
    "\n",
    "Answer -"
   ]
  },
  {
   "cell_type": "code",
   "execution_count": null,
   "id": "12f53ed5-58ff-491b-b987-0d56a53c38d7",
   "metadata": {},
   "outputs": [],
   "source": [
    "#Starting with the dictionary:\n",
    "el_dict = {'name': 'Hydrogen', 'symbol': 'H', 'number': 1}"
   ]
  },
  {
   "cell_type": "code",
   "execution_count": null,
   "id": "8720cd05-2491-4794-b8c3-9844a4353d85",
   "metadata": {},
   "outputs": [],
   "source": [
    "#Creating object called hydrogen from class Element using el_dict\n",
    "hydrogen = Element(el_dict['name'], el_dict['symbol'], el_dict['number'])"
   ]
  },
  {
   "cell_type": "code",
   "execution_count": 12,
   "id": "f53624e7-ec1f-4f00-a57b-024f72629b6f",
   "metadata": {},
   "outputs": [
    {
     "data": {
      "text/plain": [
       "'Hydrogen'"
      ]
     },
     "execution_count": 12,
     "metadata": {},
     "output_type": "execute_result"
    }
   ],
   "source": [
    "hydrogen.name"
   ]
  },
  {
   "cell_type": "code",
   "execution_count": null,
   "id": "b3e59fbd-e6c3-4680-a4d3-9bf3cb486c0b",
   "metadata": {},
   "outputs": [],
   "source": [
    "#We can also initialize the object directly from the dictionary, because its key names match the arguments to \"init\""
   ]
  },
  {
   "cell_type": "code",
   "execution_count": 16,
   "id": "795b267b-3800-44da-ace5-67327ff884b6",
   "metadata": {},
   "outputs": [
    {
     "ename": "NameError",
     "evalue": "name 'el_dict' is not defined",
     "output_type": "error",
     "traceback": [
      "\u001b[0;31m---------------------------------------------------------------------------\u001b[0m",
      "\u001b[0;31mNameError\u001b[0m                                 Traceback (most recent call last)",
      "Cell \u001b[0;32mIn [16], line 1\u001b[0m\n\u001b[0;32m----> 1\u001b[0m hydrogen \u001b[38;5;241m=\u001b[39m Element(\u001b[38;5;241m*\u001b[39m\u001b[38;5;241m*\u001b[39m\u001b[43mel_dict\u001b[49m)\n\u001b[1;32m      2\u001b[0m hydrogen\u001b[38;5;241m.\u001b[39mname\n",
      "\u001b[0;31mNameError\u001b[0m: name 'el_dict' is not defined"
     ]
    }
   ],
   "source": [
    "hydrogen = Element(**el_dict)\n",
    "hydrogen.name"
   ]
  },
  {
   "cell_type": "code",
   "execution_count": null,
   "id": "65fe1b64-b21a-409b-85e8-31f349fdad65",
   "metadata": {},
   "outputs": [],
   "source": [
    "Number 6 -\n",
    "\n",
    "Question -\n",
    "For the Element class, define a method called dump() that prints the values of the object’s attributes (name, symbol, and number). Create the hydrogen object from this new definition and use dump() to print its attributes.\n",
    "\n",
    "Answer -"
   ]
  },
  {
   "cell_type": "code",
   "execution_count": 14,
   "id": "9a041e7a-b273-4a6b-b09d-e6f4a5e70788",
   "metadata": {},
   "outputs": [
    {
     "ename": "NameError",
     "evalue": "name 'el_dict' is not defined",
     "output_type": "error",
     "traceback": [
      "\u001b[0;31m---------------------------------------------------------------------------\u001b[0m",
      "\u001b[0;31mNameError\u001b[0m                                 Traceback (most recent call last)",
      "Cell \u001b[0;32mIn [14], line 8\u001b[0m\n\u001b[1;32m      6\u001b[0m     \u001b[38;5;28;01mdef\u001b[39;00m \u001b[38;5;21mdump\u001b[39m(\u001b[38;5;28mself\u001b[39m):\n\u001b[1;32m      7\u001b[0m         \u001b[38;5;28mprint\u001b[39m(\u001b[38;5;124m'\u001b[39m\u001b[38;5;124mname=\u001b[39m\u001b[38;5;132;01m%s\u001b[39;00m\u001b[38;5;124m, symbol=\u001b[39m\u001b[38;5;132;01m%s\u001b[39;00m\u001b[38;5;124m, number=\u001b[39m\u001b[38;5;132;01m%s\u001b[39;00m\u001b[38;5;124m'\u001b[39m \u001b[38;5;241m%\u001b[39m(\u001b[38;5;28mself\u001b[39m\u001b[38;5;241m.\u001b[39mname, \u001b[38;5;28mself\u001b[39m\u001b[38;5;241m.\u001b[39msymbol, \u001b[38;5;28mself\u001b[39m\u001b[38;5;241m.\u001b[39mnumber))\n\u001b[0;32m----> 8\u001b[0m hydrogen \u001b[38;5;241m=\u001b[39m Element(\u001b[43mel_dict\u001b[49m)\n\u001b[1;32m      9\u001b[0m hydrogen\u001b[38;5;241m.\u001b[39mdump()\n",
      "\u001b[0;31mNameError\u001b[0m: name 'el_dict' is not defined"
     ]
    }
   ],
   "source": [
    "class Element:\n",
    "    def __init__(self, name, symbol, number):\n",
    "        self.name = name\n",
    "        self.symbol = symbol\n",
    "        self.number = number\n",
    "    def dump(self):\n",
    "        print('name=%s, symbol=%s, number=%s' %(self.name, self.symbol, self.number))\n",
    "hydrogen = Element(el_dict)\n",
    "hydrogen.dump()"
   ]
  },
  {
   "cell_type": "code",
   "execution_count": null,
   "id": "82942df1-c9a7-4de1-8385-6c8c264b73f1",
   "metadata": {},
   "outputs": [],
   "source": [
    "Number 7 -\n",
    "\n",
    "Question -\n",
    "Call print(hydrogen). In the definition of Element, change the name of method dump to str, create a new hydrogen object, and call print(hydrogen) again.\n",
    "\n",
    "Answer -"
   ]
  },
  {
   "cell_type": "code",
   "execution_count": 17,
   "id": "5bb62630-d43d-4ce5-bf4a-79fa1e282cf8",
   "metadata": {},
   "outputs": [
    {
     "name": "stdout",
     "output_type": "stream",
     "text": [
      "<__main__.Element object at 0x7f06845ae050>\n"
     ]
    }
   ],
   "source": [
    "print(hydrogen)"
   ]
  },
  {
   "cell_type": "code",
   "execution_count": null,
   "id": "05a8832b-4359-4e0f-880d-5e0f94333157",
   "metadata": {},
   "outputs": [],
   "source": [
    "Number 8 -\n",
    "\n",
    "Question -\n",
    "Modify Element to make the attributes name, symbol, and number private. Define a getter property for each to return its value.\n",
    "\n",
    "Answer -"
   ]
  },
  {
   "cell_type": "code",
   "execution_count": 19,
   "id": "bc965221-3b06-474a-b778-df0cf7d54f03",
   "metadata": {},
   "outputs": [],
   "source": [
    "class Element:\n",
    "    def __init__(self, name, symbol, number):\n",
    "        self.__name = name\n",
    "        self.__symbol = symbol\n",
    "        self.__number = number\n",
    "    @property    \n",
    "    def name(self):\n",
    "        return self.__name\n",
    "    @property\n",
    "    def symbol(self):\n",
    "        return self.__symbol\n",
    "    @property\n",
    "    def number(self):\n",
    "        return self.__number\n",
    "hydrogen = Element('Hydrogen', 'H', 1)"
   ]
  },
  {
   "cell_type": "code",
   "execution_count": 20,
   "id": "9a850133-39ce-4d16-9010-a9083c973f4f",
   "metadata": {},
   "outputs": [
    {
     "data": {
      "text/plain": [
       "'Hydrogen'"
      ]
     },
     "execution_count": 20,
     "metadata": {},
     "output_type": "execute_result"
    }
   ],
   "source": [
    "hydrogen.name"
   ]
  },
  {
   "cell_type": "code",
   "execution_count": 21,
   "id": "d1e86bca-a4c9-4e95-9f0c-4dbf8623008f",
   "metadata": {},
   "outputs": [
    {
     "data": {
      "text/plain": [
       "'H'"
      ]
     },
     "execution_count": 21,
     "metadata": {},
     "output_type": "execute_result"
    }
   ],
   "source": [
    "hydrogen.symbol"
   ]
  },
  {
   "cell_type": "code",
   "execution_count": 22,
   "id": "e937bbdb-1cd0-4f65-8e97-e6bc99b440be",
   "metadata": {},
   "outputs": [
    {
     "data": {
      "text/plain": [
       "1"
      ]
     },
     "execution_count": 22,
     "metadata": {},
     "output_type": "execute_result"
    }
   ],
   "source": [
    "hydrogen.number"
   ]
  },
  {
   "cell_type": "code",
   "execution_count": null,
   "id": "c8f03010-07c4-404d-89ba-3a967cca230d",
   "metadata": {},
   "outputs": [],
   "source": [
    "Number 9 -\n",
    "\n",
    "Question -\n",
    "Define three classes: Bear, Rabbit, and Octothorpe. For each, define only one method: eats(). This should return 'berries' (Bear), 'clover' (Rabbit), or 'campers' (Octothorpe). Create one object from each and print what it eats.\n",
    "\n",
    "Answer -"
   ]
  },
  {
   "cell_type": "code",
   "execution_count": 23,
   "id": "e8c59c7b-1fc8-45c5-b944-e8b8206cbe4e",
   "metadata": {},
   "outputs": [],
   "source": [
    "class Bear:\n",
    "    def eats(self):\n",
    "        return 'berries'\n",
    "    \n",
    "class Rabbit:\n",
    "    def eats(self):\n",
    "        return 'clover'\n",
    "\n",
    "class Octothorpe:\n",
    "    def eats(self):\n",
    "        return 'campers'\n",
    "    \n",
    "b = Bear()\n",
    "r = Rabbit()\n",
    "o = Octothorpe()"
   ]
  },
  {
   "cell_type": "code",
   "execution_count": 24,
   "id": "52d68e50-615e-4ea7-98a1-7f829a0f9fba",
   "metadata": {},
   "outputs": [
    {
     "name": "stdout",
     "output_type": "stream",
     "text": [
      "berries\n"
     ]
    }
   ],
   "source": [
    "print(b.eats())"
   ]
  },
  {
   "cell_type": "code",
   "execution_count": 25,
   "id": "318a0eb7-46e7-45bc-8cb1-3bf5d42c1e31",
   "metadata": {},
   "outputs": [
    {
     "name": "stdout",
     "output_type": "stream",
     "text": [
      "clover\n"
     ]
    }
   ],
   "source": [
    "print(r.eats())"
   ]
  },
  {
   "cell_type": "code",
   "execution_count": 26,
   "id": "008166a7-f2de-4947-a61c-eb3f412929b2",
   "metadata": {},
   "outputs": [
    {
     "name": "stdout",
     "output_type": "stream",
     "text": [
      "campers\n"
     ]
    }
   ],
   "source": [
    "print(o.eats())"
   ]
  },
  {
   "cell_type": "code",
   "execution_count": null,
   "id": "38bdd016-012f-4d0a-b17e-c477aa3bf74a",
   "metadata": {},
   "outputs": [],
   "source": [
    "Number 10 -\n",
    "\n",
    "Question -\n",
    "Define these classes: Laser, Claw, and SmartPhone. Each has only one method: does(). This returns 'disintegrate' (Laser), 'crush' (Claw), or 'ring' (SmartPhone). Then, define the class Robot that has one instance (object) of each of these. Define a does() method for the Robot that prints what its component objects do.\n",
    "\n",
    "Answer -"
   ]
  },
  {
   "cell_type": "code",
   "execution_count": 27,
   "id": "397355f4-1b41-4203-9218-ccf0a2416807",
   "metadata": {},
   "outputs": [],
   "source": [
    "class Laser:\n",
    "    def does(self):\n",
    "        return 'disintegrate'\n",
    "\n",
    "class Claw:\n",
    "    def does(self):\n",
    "        return 'crush'\n",
    "    \n",
    "class SmartPhone:\n",
    "    def does(self):\n",
    "        return 'ring'\n",
    "    \n",
    "class Robot:\n",
    "    def __init__(self):\n",
    "        self.laser = Laser()\n",
    "        self.claw = Claw()\n",
    "        self.smartphone = SmartPhone()\n",
    "        \n",
    "    def does(self):\n",
    "        return '''I have many attachments:\n",
    "        My laser, to %s.\n",
    "        My claw, to %s.\n",
    "        My smartphone, to %s.''' % (self.laser.does(),self.claw.does(),self.smartphone.does() )"
   ]
  },
  {
   "cell_type": "code",
   "execution_count": 28,
   "id": "27e4b591-ac7e-49b9-9b76-fa3183160a9c",
   "metadata": {},
   "outputs": [],
   "source": [
    "robbie = Robot()"
   ]
  },
  {
   "cell_type": "code",
   "execution_count": 29,
   "id": "8caa0410-acc5-4587-a345-955075a974bd",
   "metadata": {},
   "outputs": [
    {
     "name": "stdout",
     "output_type": "stream",
     "text": [
      "I have many attachments:\n",
      "        My laser, to disintegrate.\n",
      "        My claw, to crush.\n",
      "        My smartphone, to ring.\n"
     ]
    }
   ],
   "source": [
    "print( robbie.does())"
   ]
  },
  {
   "cell_type": "code",
   "execution_count": null,
   "id": "6adf5854-6232-4538-b3ba-85159b0071f2",
   "metadata": {},
   "outputs": [],
   "source": []
  }
 ],
 "metadata": {
  "kernelspec": {
   "display_name": "Python 3 (ipykernel)",
   "language": "python",
   "name": "python3"
  },
  "language_info": {
   "codemirror_mode": {
    "name": "ipython",
    "version": 3
   },
   "file_extension": ".py",
   "mimetype": "text/x-python",
   "name": "python",
   "nbconvert_exporter": "python",
   "pygments_lexer": "ipython3",
   "version": "3.10.6"
  }
 },
 "nbformat": 4,
 "nbformat_minor": 5
}
