{
 "cells": [
  {
   "cell_type": "code",
   "execution_count": null,
   "id": "b739d0b7-85cb-4deb-95b0-3c6afeb70671",
   "metadata": {},
   "outputs": [],
   "source": [
    ".Create a function that takes three arguments a, b, c and returns the sum of the numbers that are evenly divided by c from the range a, b inclusive ?\n",
    "Examples:\n",
    "evenly_divisible(1, 10, 20) ➞ 0 # No number between 1 and 10 can be evenly divided by 20. evenly_divisible(1, 10, 2) ➞ 30 # 2 + 4 + 6 + 8 + 10 = 30 evenly_divisible(1, 10, 3) ➞ 18 # 3 + 6 + 9 = 18"
   ]
  },
  {
   "cell_type": "code",
   "execution_count": 1,
   "id": "391fbd25-eb83-4fe9-84b5-422f66d4cd35",
   "metadata": {},
   "outputs": [
    {
     "name": "stdout",
     "output_type": "stream",
     "text": [
      "(1, 10, 20) ➞ 0\n",
      "(1, 10, 2) ➞ 30\n",
      "(1, 10, 3) ➞ 18\n"
     ]
    }
   ],
   "source": [
    "def evenDivisible(a,b,c):\n",
    "    divList = []\n",
    "    for num in range(a,b+1):\n",
    "        if num%c == 0:\n",
    "            divList.append(num)\n",
    "    print(f'{a,b,c} ➞ {sum(divList)}')\n",
    "\n",
    "evenDivisible(1,10,20)\n",
    "evenDivisible(1,10,2)\n",
    "evenDivisible(1,10,3)"
   ]
  },
  {
   "cell_type": "code",
   "execution_count": null,
   "id": "e21643fc-d4ba-48a0-b3a7-6576b84cd1e6",
   "metadata": {},
   "outputs": [],
   "source": [
    "2.Create a function that returns True if a given inequality expression is correct and False otherwise ?\n",
    "Examples:\n",
    "correct_signs(\"3 < 7 < 11\") ➞ True\n",
    "correct_signs(\"13 > 44 > 33 > 1\") ➞ False\n",
    "correct_signs(\"1 < 2 < 6 < 9 > 3\") ➞ True\n",
    "\n"
   ]
  },
  {
   "cell_type": "code",
   "execution_count": 2,
   "id": "0da420e4-b01a-4c9a-87b3-79c1ba0cb401",
   "metadata": {},
   "outputs": [
    {
     "name": "stdin",
     "output_type": "stream",
     "text": [
      "Enter the inequality:  5 < 8 < 9\n"
     ]
    },
    {
     "name": "stdout",
     "output_type": "stream",
     "text": [
      "5 < 8 < 9 ➞ True\n"
     ]
    },
    {
     "name": "stdin",
     "output_type": "stream",
     "text": [
      "Enter the inequality:  5==6\n"
     ]
    },
    {
     "name": "stdout",
     "output_type": "stream",
     "text": [
      "5==6 ➞ False\n"
     ]
    },
    {
     "name": "stdin",
     "output_type": "stream",
     "text": [
      "Enter the inequality:  8>5<2\n"
     ]
    },
    {
     "name": "stdout",
     "output_type": "stream",
     "text": [
      "8>5<2 ➞ False\n"
     ]
    }
   ],
   "source": [
    "def checkEquality():\n",
    "    in_string = input('Enter the inequality: ')\n",
    "    out_bool = eval(in_string)\n",
    "    print(f'{in_string} ➞ {out_bool}')\n",
    "\n",
    "for x in range(3):\n",
    "    checkEquality()"
   ]
  },
  {
   "cell_type": "code",
   "execution_count": null,
   "id": "b07fe733-02b9-44eb-b7b1-d0cab5abdce8",
   "metadata": {},
   "outputs": [],
   "source": [
    "3.Create a function that replaces all the vowels in a string with a specified character ?\n",
    "Examples:\n",
    "replace_vowels(\"the aardvark\", \"#\") ➞ \"th# ##rdv#rk\"\n",
    "replace_vowels(\"minnie mouse\", \"?\") ➞ \"m?nn?? m??s?\"\n",
    "replace_vowels(\"shakespeare\", \"*\") ➞ \"shksp**r\""
   ]
  },
  {
   "cell_type": "code",
   "execution_count": null,
   "id": "abe9607d-0359-414c-94ef-dd640efeba7f",
   "metadata": {},
   "outputs": [],
   "source": [
    "def replaceVowels():\n",
    "    vowels = ['a','e','i','o','u','A','E','I','O','U']\n",
    "    in_string = input(\"String: \")\n",
    "    in_string_copy = in_string\n",
    "    in_char = input('Replacement character: ')\n",
    "    for ele in in_string:\n",
    "        if ele in vowels:\n",
    "            in_string = in_string.replace(ele,in_char)\n",
    "    print(f'{in_string_copy} {in_char} ➞ {in_string}')\n",
    "            \n",
    "for x in range(3):\n",
    "    replaceVowels()"
   ]
  },
  {
   "cell_type": "code",
   "execution_count": null,
   "id": "aa4e752e-cdcb-4be6-9b63-8ce15ec853c6",
   "metadata": {},
   "outputs": [],
   "source": [
    "4.Write a function that calculates the factorial of a number recursively ?\n",
    "Examples:\n",
    "factorial(5) ➞ 120\n",
    "factorial(3) ➞ 6\n",
    "factorial(1) ➞ 1\n",
    "factorial(0) ➞ 1"
   ]
  },
  {
   "cell_type": "code",
   "execution_count": null,
   "id": "7de29e45-329d-4a6f-abcb-ee5799c4cc94",
   "metadata": {},
   "outputs": [],
   "source": [
    "def factorial(n):\n",
    "    if n==0:\n",
    "        return 1\n",
    "    return n * factorial(n-1)\n",
    "\n",
    "print(f'factorial(5) ➞ {factorial(5)}')\n",
    "print(f'factorial(3) ➞ {factorial(3)}')\n",
    "print(f'factorial(1) ➞ {factorial(1)}')\n",
    "print(f'factorial(0) ➞ {factorial(0)}')"
   ]
  },
  {
   "cell_type": "code",
   "execution_count": null,
   "id": "5182342b-15cc-4908-8f81-cd7aa7d6b0a3",
   "metadata": {},
   "outputs": [],
   "source": [
    "5.Hamming distance is the number of characters that differ between two strings ?\n",
    "To illustrate:\n",
    "String1: \"abcbba\"\n",
    "String2: \"abcbda\"\n",
    "Hamming Distance: 1 - \"b\" vs. \"d\" is the only difference.\n",
    "Create a function that computes the hamming distance between two strings.\n",
    "Examples:\n",
    "hamming_distance(\"abcde\", \"bcdef\") ➞ 5\n",
    "hamming_distance(\"abcde\", \"abcde\") ➞ 0\n",
    "hamming_distance(\"strong\", \"strung\") ➞ 1"
   ]
  },
  {
   "cell_type": "code",
   "execution_count": null,
   "id": "514090f9-b5af-492d-b3ff-1c487c2ddc5f",
   "metadata": {},
   "outputs": [],
   "source": [
    "def genHamDistance():\n",
    "    in_string_1 = input('Enter the String_1: ')\n",
    "    in_string_2 = input('Enter the String_2: ')\n",
    "    if len(in_string_1) == len(in_string_2):\n",
    "        count = 0\n",
    "        for i in range(len(in_string_1)):\n",
    "            if in_string_1[i] != in_string_2[i]:\n",
    "                count = count+1\n",
    "        print(f'Hamning Distance b/w {in_string_1} and {in_string_2} ➞ {count}')\n",
    "    else:\n",
    "        print('Both Strings Must be of Same Length')\n",
    "\n",
    "for x in range(3):\n",
    "    genHamDistance()"
   ]
  },
  {
   "cell_type": "code",
   "execution_count": null,
   "id": "6c8b9700-d1bd-4fb0-8584-ee33b72784ae",
   "metadata": {},
   "outputs": [],
   "source": []
  }
 ],
 "metadata": {
  "kernelspec": {
   "display_name": "Python 3 (ipykernel)",
   "language": "python",
   "name": "python3"
  },
  "language_info": {
   "codemirror_mode": {
    "name": "ipython",
    "version": 3
   },
   "file_extension": ".py",
   "mimetype": "text/x-python",
   "name": "python",
   "nbconvert_exporter": "python",
   "pygments_lexer": "ipython3",
   "version": "3.10.6"
  }
 },
 "nbformat": 4,
 "nbformat_minor": 5
}
