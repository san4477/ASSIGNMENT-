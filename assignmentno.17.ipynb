{
 "cells": [
  {
   "cell_type": "code",
   "execution_count": null,
   "id": "e7132139-72ca-4fe2-ba8b-4912d963118e",
   "metadata": {},
   "outputs": [],
   "source": [
    "Number 1 -Assign the value 7 to the variable guess_me. Then, write the conditional tests (if, else, and elif) to print the string 'too low' \n",
    "if guess_me is less than 7, 'too high' if greater than 7, and 'just right' if equal to 7.\n"
   ]
  },
  {
   "cell_type": "code",
   "execution_count": 1,
   "id": "bcb5ac71-61ec-48fc-8619-f212a66441d7",
   "metadata": {},
   "outputs": [
    {
     "name": "stdout",
     "output_type": "stream",
     "text": [
      "just right\n"
     ]
    }
   ],
   "source": [
    "guess_me = 7\n",
    "if guess_me < 7:\n",
    " print('too low')\n",
    "elif guess_me > 7:\n",
    " print('too high')\n",
    "else:\n",
    " print('just right')"
   ]
  },
  {
   "cell_type": "code",
   "execution_count": null,
   "id": "49d2e61c-fda6-4320-848c-f677eeb6e458",
   "metadata": {},
   "outputs": [],
   "source": [
    "Number 2 -Assign the value 7 to the variable guess_me and the value 1 to the variable start. Write a while loop that compares start with guess_me.\n",
    "Print too low if start is less than guess me. If start equals guess_me, print 'found it!' and exit the loop. If start is greater than \n",
    "guess_me, print 'oops' and exit the loop. Increment start at the end of the loop."
   ]
  },
  {
   "cell_type": "code",
   "execution_count": 2,
   "id": "63bf038c-1a1c-4f37-8d46-370eb1d014af",
   "metadata": {},
   "outputs": [
    {
     "name": "stdout",
     "output_type": "stream",
     "text": [
      "too low\n",
      "too low\n",
      "too low\n",
      "too low\n",
      "too low\n",
      "too low\n",
      "found it!\n"
     ]
    }
   ],
   "source": [
    "guess_me = 7\n",
    "start = 1\n",
    "while True:\n",
    " if start < guess_me:\n",
    "    print('too low')\n",
    " elif start == guess_me:\n",
    "     print('found it!')\n",
    "     break\n",
    " elif start > guess_me:\n",
    "     print('oops')\n",
    "     break\n",
    " start += 1"
   ]
  },
  {
   "cell_type": "code",
   "execution_count": null,
   "id": "134423ff-5064-4069-b9f4-085323a56a3c",
   "metadata": {},
   "outputs": [],
   "source": [
    "Number 3 -Print the following values of the list [3, 2, 1, 0] using a for loop"
   ]
  },
  {
   "cell_type": "code",
   "execution_count": 3,
   "id": "07c15ddb-020d-4716-beae-0106d8abba66",
   "metadata": {},
   "outputs": [
    {
     "name": "stdout",
     "output_type": "stream",
     "text": [
      "3\n",
      "2\n",
      "1\n",
      "0\n"
     ]
    }
   ],
   "source": [
    "lst = [3,2,1,0]\n",
    "for value in lst:\n",
    "    print(value)"
   ]
  },
  {
   "cell_type": "code",
   "execution_count": null,
   "id": "a002385e-09ca-4554-a4f8-32f72ac37e75",
   "metadata": {},
   "outputs": [],
   "source": [
    "Number 4 - Use a list comprehension to make a list of the even numbers in range(10)"
   ]
  },
  {
   "cell_type": "code",
   "execution_count": 4,
   "id": "b2d5eb90-cdf7-495f-93d1-94e749bbd1c7",
   "metadata": {},
   "outputs": [
    {
     "data": {
      "text/plain": [
       "[0, 2, 4, 6, 8]"
      ]
     },
     "execution_count": 4,
     "metadata": {},
     "output_type": "execute_result"
    }
   ],
   "source": [
    "even = [number for number in range(10) if number % 2 == 0]\n",
    "even"
   ]
  },
  {
   "cell_type": "code",
   "execution_count": null,
   "id": "35fd9939-a139-4977-93bd-c19998d3ad25",
   "metadata": {},
   "outputs": [],
   "source": [
    "Number 5 - Use a dictionary comprehension to create the dictionary squares. Use range(10) to return the keys, and use the square of each \n",
    "key as its value."
   ]
  },
  {
   "cell_type": "code",
   "execution_count": 5,
   "id": "bfac4041-6ea2-4fca-b7b7-e245cc3b65ab",
   "metadata": {},
   "outputs": [
    {
     "data": {
      "text/plain": [
       "{0: 0, 1: 1, 2: 4, 3: 9, 4: 16, 5: 25, 6: 36, 7: 49, 8: 64, 9: 81}"
      ]
     },
     "execution_count": 5,
     "metadata": {},
     "output_type": "execute_result"
    }
   ],
   "source": [
    "squares = {key: key*key for key in range(10)}\n",
    "squares"
   ]
  },
  {
   "cell_type": "code",
   "execution_count": null,
   "id": "5c2bcbf3-009e-48d3-ad6e-2a2f171725f0",
   "metadata": {},
   "outputs": [],
   "source": [
    "Number 6 - Construct the set odd from the odd numbers in the range using a set comprehension (10)."
   ]
  },
  {
   "cell_type": "code",
   "execution_count": 6,
   "id": "a235ea3d-18b3-4582-a877-b001f89ad33e",
   "metadata": {},
   "outputs": [
    {
     "data": {
      "text/plain": [
       "{1, 3, 5, 7, 9}"
      ]
     },
     "execution_count": 6,
     "metadata": {},
     "output_type": "execute_result"
    }
   ],
   "source": [
    "odd = {number for number in range(10) if number % 2 == 1}\n",
    "odd"
   ]
  },
  {
   "cell_type": "code",
   "execution_count": null,
   "id": "734a674e-0954-4bb8-9f4b-ddfd991752cb",
   "metadata": {},
   "outputs": [],
   "source": [
    "Number 7 - Use a generator comprehension to return the string 'Got ' and a number for the numbers in range(10). \n",
    "Iterate through this by using a for loop."
   ]
  },
  {
   "cell_type": "code",
   "execution_count": null,
   "id": "b42821be-e9f5-4d01-bafd-c494fd58f325",
   "metadata": {},
   "outputs": [],
   "source": [
    "for thing in ('Got %s' % number for number in range(10)):\n",
    "    print(thing)"
   ]
  },
  {
   "cell_type": "code",
   "execution_count": null,
   "id": "db671a6c-6c77-4c44-936d-c4ccd8fcacdd",
   "metadata": {},
   "outputs": [],
   "source": [
    "Number 8 - Define a function called good that returns the list ['Harry', 'Ron', 'Hermione']."
   ]
  },
  {
   "cell_type": "code",
   "execution_count": 8,
   "id": "0bc81c3d-0b01-4254-9c0c-830bf85891b8",
   "metadata": {},
   "outputs": [
    {
     "data": {
      "text/plain": [
       "['Harry', 'Ron', 'Hermione']"
      ]
     },
     "execution_count": 8,
     "metadata": {},
     "output_type": "execute_result"
    }
   ],
   "source": [
    "def good():\n",
    "    return ['Harry', 'Ron', 'Hermione']\n",
    "good()"
   ]
  },
  {
   "cell_type": "code",
   "execution_count": null,
   "id": "74833d44-d33a-4b57-b69a-e88678878d19",
   "metadata": {},
   "outputs": [],
   "source": [
    "Number 9 - Define a generator function called get_odds that returns the odd numbers from range(10). Use a for loop to find \n",
    "and print the third value returned."
   ]
  },
  {
   "cell_type": "code",
   "execution_count": 9,
   "id": "47d35306-e718-4a04-8863-ad7e11973798",
   "metadata": {},
   "outputs": [
    {
     "name": "stdout",
     "output_type": "stream",
     "text": [
      "The third odd number is 5\n"
     ]
    }
   ],
   "source": [
    "def get_odds():\n",
    "    for number in range(1, 10, 2):\n",
    "        yield number\n",
    "count = 1\n",
    "for number in get_odds():\n",
    "    if count == 3:\n",
    "        print(\"The third odd number is\", number)\n",
    "        break\n",
    "    count += 1"
   ]
  },
  {
   "cell_type": "code",
   "execution_count": null,
   "id": "b5e08b3a-6b97-4665-b91f-47237cb45065",
   "metadata": {},
   "outputs": [],
   "source": [
    "Number 10 - Define an exception called OopsException. Raise this exception to see what happens. \n",
    "Then write the code to catch this exception and print 'Caught an oops'."
   ]
  },
  {
   "cell_type": "code",
   "execution_count": 10,
   "id": "a3a67089-5280-4303-b94f-625d4ef7aa09",
   "metadata": {},
   "outputs": [
    {
     "ename": "OopsException",
     "evalue": "",
     "output_type": "error",
     "traceback": [
      "\u001b[0;31m---------------------------------------------------------------------------\u001b[0m",
      "\u001b[0;31mOopsException\u001b[0m                             Traceback (most recent call last)",
      "Cell \u001b[0;32mIn [10], line 3\u001b[0m\n\u001b[1;32m      1\u001b[0m \u001b[38;5;28;01mclass\u001b[39;00m \u001b[38;5;21;01mOopsException\u001b[39;00m(\u001b[38;5;167;01mException\u001b[39;00m):\n\u001b[1;32m      2\u001b[0m     \u001b[38;5;28;01mpass\u001b[39;00m\n\u001b[0;32m----> 3\u001b[0m \u001b[38;5;28;01mraise\u001b[39;00m OopsException()\n",
      "\u001b[0;31mOopsException\u001b[0m: "
     ]
    }
   ],
   "source": [
    "class OopsException(Exception):\n",
    "    pass\n",
    "raise OopsException()"
   ]
  },
  {
   "cell_type": "code",
   "execution_count": 11,
   "id": "3a52eaf0-444f-4953-9dad-c3875f319b43",
   "metadata": {},
   "outputs": [
    {
     "name": "stdout",
     "output_type": "stream",
     "text": [
      "Caught an oops\n"
     ]
    }
   ],
   "source": [
    "try:\n",
    "    raise OopsException\n",
    "except OopsException:\n",
    "    print('Caught an oops')"
   ]
  },
  {
   "cell_type": "code",
   "execution_count": null,
   "id": "345d483a-0824-4d2a-905c-411424d761a7",
   "metadata": {},
   "outputs": [],
   "source": [
    "Number 11 - Use zip() to make a dictionary called movies that pairs these lists: titles = ['Creature of Habit', 'Crewel Fate']\n",
    "and plots = ['A nun turns into a monster', 'A haunted yarn shop']."
   ]
  },
  {
   "cell_type": "code",
   "execution_count": 12,
   "id": "831503c7-0fb4-4d55-8954-4672404fc434",
   "metadata": {},
   "outputs": [
    {
     "data": {
      "text/plain": [
       "{'Creature of Habit': 'A nun turns into a monster',\n",
       " 'Crewel Fate': 'A haunted yarn shop'}"
      ]
     },
     "execution_count": 12,
     "metadata": {},
     "output_type": "execute_result"
    }
   ],
   "source": [
    "titles = ['Creature of Habit', 'Crewel Fate']\n",
    "plots = ['A nun turns into a monster', 'A haunted yarn shop']\n",
    "movies = dict(zip(titles, plots))\n",
    "movies"
   ]
  },
  {
   "cell_type": "code",
   "execution_count": null,
   "id": "3d6b93b9-ec1c-4ac5-a581-467d266868fb",
   "metadata": {},
   "outputs": [],
   "source": []
  }
 ],
 "metadata": {
  "kernelspec": {
   "display_name": "Python 3 (ipykernel)",
   "language": "python",
   "name": "python3"
  },
  "language_info": {
   "codemirror_mode": {
    "name": "ipython",
    "version": 3
   },
   "file_extension": ".py",
   "mimetype": "text/x-python",
   "name": "python",
   "nbconvert_exporter": "python",
   "pygments_lexer": "ipython3",
   "version": "3.10.6"
  }
 },
 "nbformat": 4,
 "nbformat_minor": 5
}
