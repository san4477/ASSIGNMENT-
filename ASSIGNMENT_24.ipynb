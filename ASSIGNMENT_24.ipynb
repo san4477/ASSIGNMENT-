{
 "cells": [
  {
   "cell_type": "code",
   "execution_count": null,
   "id": "611bcfc4-7346-462a-bc3a-85f4bc3eca65",
   "metadata": {},
   "outputs": [],
   "source": [
    "Number 1 -\n",
    "\n",
    "Question -\n",
    "What is the relationship between def statements and lambda expressions ?\n",
    "\n",
    "Answer -\n",
    "As an expression, lambda returns a value that can optionally be assigned a name. \n",
    "In contrast, the def statement always assigns the new function to the name in the header, \n",
    "instead of returning is as a result. lambda's body is a single expression, not a block of statements"
   ]
  },
  {
   "cell_type": "code",
   "execution_count": null,
   "id": "7dbcc6bf-8e7d-4147-80e1-c3736cd6fde1",
   "metadata": {},
   "outputs": [],
   "source": [
    "Number 2 -\n",
    "\n",
    "Question -\n",
    "What is the benefit of lambda?\n",
    "\n",
    "Answer -\n",
    "The lambda keyword in Python provides a shortcut for declaring small anonymous functions.\n",
    "Lambda functions behave just like regular functions declared with the def keyword. \n",
    "They can be used whenever function objects are required."
   ]
  },
  {
   "cell_type": "code",
   "execution_count": null,
   "id": "5774af93-f9cb-46e4-aad6-5779892210a5",
   "metadata": {},
   "outputs": [],
   "source": [
    "Number 3 -\n",
    "\n",
    "Question -\n",
    "Compare and contrast map, filter, and reduce.\n",
    "\n",
    "Answer -\n",
    "Map operation takes a mapping function and a vector of data as arguments and returns a new vector, which is the result of applying the\n",
    "mapping function on each element of the vector independently. The returned value from map() (map object) then can be passed to functions \n",
    "like list() (to create a list), set() (to create a set) and so on.\n",
    "\n",
    "The filter function operates on a list and returns a subset of that list after applying the filtering rule.\n",
    "\n",
    "The reduce function will transform a given list into a single value by applying a given function continuously to all the elements. \n",
    "It basically keeps operating on pairs of elements until there are no more elements left."
   ]
  },
  {
   "cell_type": "code",
   "execution_count": null,
   "id": "a7bbece8-dc2d-4fbb-ab63-4f558c683a9e",
   "metadata": {},
   "outputs": [],
   "source": [
    "Number 4 -\n",
    "\n",
    "Question -\n",
    "What are function annotations, and how are they used?\n",
    "\n",
    "Answer -\n",
    "Function annotations are completely optional both for parameters and return value.\n",
    "Function annotations provide a way of associating various parts of a function with arbitrary python expressions at compile time.\n",
    "\n",
    "Syntax of function annotations for simple parameters and for excess parameters respectively:\n",
    "\n",
    "def foobar(a: expression, b: expression = 5):\n",
    "\n",
    "def foobar(args: expression, kwargs: expression):"
   ]
  },
  {
   "cell_type": "code",
   "execution_count": null,
   "id": "822710c5-8ba4-4942-8f66-547cd9768225",
   "metadata": {},
   "outputs": [],
   "source": [
    "Number 5 -\n",
    "\n",
    "Question -\n",
    "What are recursive functions, and how are they used?\n",
    "\n",
    "Answer -\n",
    "A recursive function is a function defined in terms of itself via self-referential expressions. This means that the function will continue to call itself and repeat its behavior until some condition is met to return a result.\n",
    "\n",
    "In this example, tri_recursion() is a function that we have defined to call itself (\"recurse\"). We use the k variable as the data, which decrements (-1) every time we recurse. The recursion ends when the condition is not greater than 0 (i.e. when it is 0)."
   ]
  }
 ],
 "metadata": {
  "kernelspec": {
   "display_name": "Python 3 (ipykernel)",
   "language": "python",
   "name": "python3"
  },
  "language_info": {
   "codemirror_mode": {
    "name": "ipython",
    "version": 3
   },
   "file_extension": ".py",
   "mimetype": "text/x-python",
   "name": "python",
   "nbconvert_exporter": "python",
   "pygments_lexer": "ipython3",
   "version": "3.10.6"
  }
 },
 "nbformat": 4,
 "nbformat_minor": 5
}
