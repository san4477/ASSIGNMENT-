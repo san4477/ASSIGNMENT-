{
 "cells": [
  {
   "cell_type": "code",
   "execution_count": null,
   "id": "de5b49c8-ba5c-4c57-b630-c57287a4c89d",
   "metadata": {},
   "outputs": [],
   "source": [
    "1. Please write a program using generator to print the numbers which can be divisible by 5 and 7 between 0 and n in comma separated form while n is input by console ?\n",
    "Example:\n",
    "If the following n is given as input to the program: 100\n",
    "Then, the output of the program should be: 0,35,70\n"
   ]
  },
  {
   "cell_type": "code",
   "execution_count": 1,
   "id": "12af727a-6673-48f9-8650-00c0262da3a2",
   "metadata": {},
   "outputs": [
    {
     "name": "stdout",
     "output_type": "stream",
     "text": [
      "0 35 70 "
     ]
    }
   ],
   "source": [
    "def showDivisible(in_num):\n",
    "    for ele in range(0,in_num):\n",
    "        if (ele%5 == 0) and (ele%7 == 0):\n",
    "            yield ele\n",
    "for ele in showDivisible(100):\n",
    "    print(ele,end=' ')"
   ]
  },
  {
   "cell_type": "code",
   "execution_count": null,
   "id": "435f5bf4-c8de-45fc-b9ba-9d1af70f4c2b",
   "metadata": {},
   "outputs": [],
   "source": [
    "2.Please write a program using generator to print the even numbers between 0 and n in comma separated form while n is input by console ?\n",
    "Example:\n",
    "If the following n is given as input to the program: 10\n",
    "Then, the output of the program should be: 0,2,4,6,8,10"
   ]
  },
  {
   "cell_type": "code",
   "execution_count": 2,
   "id": "67a773ad-e222-44ae-9040-26427f1bb5cc",
   "metadata": {},
   "outputs": [
    {
     "name": "stdout",
     "output_type": "stream",
     "text": [
      "0 2 4 6 8 10 "
     ]
    }
   ],
   "source": [
    "def genEvenNumbers(in_num):\n",
    "    for ele in range(in_num+1):\n",
    "        if ele%2 == 0:\n",
    "            yield ele\n",
    "\n",
    "for ele in genEvenNumbers(10):\n",
    "    print(ele,end=' ')"
   ]
  },
  {
   "cell_type": "code",
   "execution_count": null,
   "id": "3d3e25c5-7d57-4efe-9e82-1535261a1fd0",
   "metadata": {},
   "outputs": [],
   "source": [
    "3.The Fibonacci Sequence is computed based on the following formula below, Please write a program using list comprehension to print the Fibonacci Sequence in comma separated form with a given n input by console ?\n",
    "f(n)=0 if n=0 f(n)=1 if n=1 f(n)=f(n-1)+f(n-2) if n>1"
   ]
  },
  {
   "cell_type": "code",
   "execution_count": 3,
   "id": "1f4b8f2e-b317-43bb-91f5-d9f646eaeb1d",
   "metadata": {},
   "outputs": [
    {
     "name": "stdout",
     "output_type": "stream",
     "text": [
      "[0, 1, 1, 2, 3, 5, 8, 13, 21, 34, 55, 89, 144, 233, 377, 610, 987, 1597, 2584, 4181]\n"
     ]
    }
   ],
   "source": [
    "def genFibonaci(in_num):\n",
    "    if in_num == 0:\n",
    "        return 0\n",
    "    elif in_num == 1:\n",
    "        return 1\n",
    "    else:\n",
    "        return genFibonaci(in_num-1)+genFibonaci(in_num-2)\n",
    "    \n",
    "print([genFibonaci(x) for x in range(20)])"
   ]
  },
  {
   "cell_type": "code",
   "execution_count": null,
   "id": "0ca8368e-a045-4652-b5db-5869f0fa4110",
   "metadata": {},
   "outputs": [],
   "source": [
    "4.Assuming that we have some email addresses in the \"username@companyname.com\" format, please write program to print the user name of a given email address. Both user names and company names are composed of letters only ?\n",
    "Example:\n",
    "If the following email address is given as input to the program: john@google.com\n",
    "Then, the output of the program should be: john"
   ]
  },
  {
   "cell_type": "code",
   "execution_count": null,
   "id": "df6167b3-9654-4001-81e6-d505267ef418",
   "metadata": {},
   "outputs": [
    {
     "name": "stdin",
     "output_type": "stream",
     "text": [
      "Enter Email Address(es):  saniamulla97@gmail.com\n"
     ]
    },
    {
     "name": "stdout",
     "output_type": "stream",
     "text": [
      "Username of saniamulla97@gmail.com is saniamulla97\n"
     ]
    }
   ],
   "source": [
    "def getUsernames():\n",
    "    in_string = input('Enter Email Address(es): ')\n",
    "    out_string = in_string.split('@')\n",
    "    print(f'Username of {in_string} is {out_string[0]}')\n",
    "\n",
    "for i in range(3):\n",
    "    getUsernames()"
   ]
  },
  {
   "cell_type": "code",
   "execution_count": null,
   "id": "592e2384-b183-480d-b6ef-780cf0420cbb",
   "metadata": {},
   "outputs": [],
   "source": []
  }
 ],
 "metadata": {
  "kernelspec": {
   "display_name": "Python 3 (ipykernel)",
   "language": "python",
   "name": "python3"
  },
  "language_info": {
   "codemirror_mode": {
    "name": "ipython",
    "version": 3
   },
   "file_extension": ".py",
   "mimetype": "text/x-python",
   "name": "python",
   "nbconvert_exporter": "python",
   "pygments_lexer": "ipython3",
   "version": "3.10.6"
  }
 },
 "nbformat": 4,
 "nbformat_minor": 5
}
