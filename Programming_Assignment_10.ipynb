{
 "cells": [
  {
   "cell_type": "code",
   "execution_count": null,
   "id": "81e1a73e-7ce8-4b99-b529-9cfa34724cc7",
   "metadata": {},
   "outputs": [],
   "source": [
    "1.Write a Python Program to find sum of elements in a list ?"
   ]
  },
  {
   "cell_type": "code",
   "execution_count": 1,
   "id": "b396d0bf-7d0f-43f8-b1ae-1d397f8cc727",
   "metadata": {},
   "outputs": [
    {
     "name": "stdin",
     "output_type": "stream",
     "text": [
      "Enter the No of Entries in a List:  5\n",
      "Enter a element:  2\n",
      "Enter a element:  5\n",
      "Enter a element:  3\n",
      "Enter a element:  8\n",
      "Enter a element:  1\n"
     ]
    },
    {
     "name": "stdout",
     "output_type": "stream",
     "text": [
      "Sum of Elements: 19\n"
     ]
    }
   ],
   "source": [
    "def sumofList():\n",
    "    in_ele = int(input('Enter the No of Entries in a List: '))\n",
    "    in_list = []\n",
    "    for itr in range(in_ele):\n",
    "        in_list.append(int(input('Enter a element: ')))\n",
    "    print(f'Sum of Elements: {sum(in_list)}')\n",
    "\n",
    "sumofList()"
   ]
  },
  {
   "cell_type": "code",
   "execution_count": null,
   "id": "506a1315-5799-46ba-a577-0b48ae539379",
   "metadata": {},
   "outputs": [],
   "source": [
    "2.Write a Python Program to multiply all numbers in the list ?"
   ]
  },
  {
   "cell_type": "code",
   "execution_count": 2,
   "id": "e500f68b-b48d-47dc-93e9-ba7055b5d623",
   "metadata": {},
   "outputs": [
    {
     "name": "stdin",
     "output_type": "stream",
     "text": [
      "Enter the No of Entries in a List:  5\n",
      "Enter a element:  1\n",
      "Enter a element:  5\n",
      "Enter a element:  6\n",
      "Enter a element:  2\n",
      "Enter a element:  3\n"
     ]
    },
    {
     "name": "stdout",
     "output_type": "stream",
     "text": [
      "180\n"
     ]
    }
   ],
   "source": [
    "def mulofList():\n",
    "    in_ele = int(input('Enter the No of Entries in a List: '))\n",
    "    in_list = []\n",
    "    mul = 1\n",
    "    for itr in range(in_ele):\n",
    "        in_list.append(int(input('Enter a element: ')))\n",
    "    for ele in in_list:\n",
    "        mul = mul * ele\n",
    "    print(mul)\n",
    "\n",
    "mulofList()"
   ]
  },
  {
   "cell_type": "code",
   "execution_count": 3,
   "id": "9a4fc205-90a7-4d8f-bac5-2409edf7b8b4",
   "metadata": {},
   "outputs": [
    {
     "name": "stdin",
     "output_type": "stream",
     "text": [
      "Enter the No of elements in a list:  6\n",
      "Enter a Element:  2\n",
      "Enter a Element:  3\n",
      "Enter a Element:  8\n",
      "Enter a Element:  4\n",
      "Enter a Element:  9\n",
      "Enter a Element:  1\n"
     ]
    },
    {
     "name": "stdout",
     "output_type": "stream",
     "text": [
      "The Smallest Element in [2, 3, 8, 4, 9, 1] is 1\n"
     ]
    }
   ],
   "source": [
    "#3.Write a Python Program to find smallest number in the list ?\n",
    "def smallEleInList():\n",
    "    in_ele = int(input('Enter the No of elements in a list: '))\n",
    "    in_list = []\n",
    "    for ele in range(in_ele):\n",
    "        in_list.append(int(input('Enter a Element: ')))\n",
    "    print(f'The Smallest Element in {in_list} is {sorted(in_list)[0]}')\n",
    "smallEleInList()"
   ]
  },
  {
   "cell_type": "code",
   "execution_count": 4,
   "id": "4bbeeafc-1daa-4139-9d04-75f1be631d63",
   "metadata": {},
   "outputs": [
    {
     "name": "stdin",
     "output_type": "stream",
     "text": [
      "Enter the No of elements in a list:  5\n",
      "Enter a Element:  1\n",
      "Enter a Element:  9\n",
      "Enter a Element:  4\n",
      "Enter a Element:  3\n",
      "Enter a Element:  2\n"
     ]
    },
    {
     "name": "stdout",
     "output_type": "stream",
     "text": [
      "The Largest Element in [1, 9, 4, 3, 2] is 9\n"
     ]
    }
   ],
   "source": [
    "#4.Write a Python Program to find largest number in the list ?\n",
    "def largestEleInList():\n",
    "    in_ele = int(input('Enter the No of elements in a list: '))\n",
    "    in_list = []\n",
    "    for ele in range(in_ele):\n",
    "        in_list.append(int(input('Enter a Element: ')))\n",
    "    print(f'The Largest Element in {in_list} is {sorted(in_list, reverse=True)[0]}')\n",
    "\n",
    "largestEleInList()"
   ]
  },
  {
   "cell_type": "code",
   "execution_count": 5,
   "id": "fbef4ffb-4504-4c17-9ade-9c8436d8ed21",
   "metadata": {},
   "outputs": [
    {
     "name": "stdin",
     "output_type": "stream",
     "text": [
      "Enter the No of elements in a list:  3\n",
      "Enter a Element:  2\n",
      "Enter a Element:  4\n",
      "Enter a Element:  6\n"
     ]
    },
    {
     "name": "stdout",
     "output_type": "stream",
     "text": [
      "The Second Largest Element in [2, 4, 6] is 4\n"
     ]
    }
   ],
   "source": [
    "#5.Write a Python Program to find second largest number in the list ?\n",
    "def secondLargestEleInList():\n",
    "    in_ele = int(input('Enter the No of elements in a list: '))\n",
    "    in_list = []\n",
    "    for ele in range(in_ele):\n",
    "        in_list.append(int(input('Enter a Element: ')))\n",
    "    print(f'The Second Largest Element in {in_list} is {sorted(in_list, reverse=True)[1]}')\n",
    "\n",
    "secondLargestEleInList()"
   ]
  },
  {
   "cell_type": "code",
   "execution_count": 6,
   "id": "27b2f3d8-9611-4547-b3bf-4da0aebf8d3a",
   "metadata": {},
   "outputs": [
    {
     "name": "stdin",
     "output_type": "stream",
     "text": [
      "Enter the No of elements in a list:  5\n",
      "Enter a Element:  3\n",
      "Enter a Element:  1\n",
      "Enter a Element:  6\n",
      "Enter a Element:  4\n",
      "Enter a Element:  8\n"
     ]
    },
    {
     "name": "stdout",
     "output_type": "stream",
     "text": [
      "The 4 Largest Element in [3, 1, 6, 4, 8] is [8, 6, 4, 3]\n"
     ]
    }
   ],
   "source": [
    "#6.Write a Python Program to find N largest elements in the list ?\n",
    "def nLargestEleInList(k):\n",
    "    in_ele = int(input('Enter the No of elements in a list: '))\n",
    "    in_list = []\n",
    "    for ele in range(in_ele):\n",
    "        in_list.append(int(input('Enter a Element: ')))\n",
    "    print(f'The {k} Largest Element in {in_list} is {sorted(in_list, reverse=True)[0:k]}')\n",
    "\n",
    "nLargestEleInList(4)"
   ]
  },
  {
   "cell_type": "code",
   "execution_count": 7,
   "id": "cca46d57-4286-4265-802a-049a172ab5dc",
   "metadata": {},
   "outputs": [
    {
     "name": "stdin",
     "output_type": "stream",
     "text": [
      "Enter the No of elements in a list:  5\n",
      "Enter a Element:  2\n",
      "Enter a Element:  3\n",
      "Enter a Element:  2\n",
      "Enter a Element:  4\n",
      "Enter a Element:  8\n"
     ]
    },
    {
     "name": "stdout",
     "output_type": "stream",
     "text": [
      "The Even Elements in [2, 3, 2, 4, 8] are [2, 2, 4, 8]\n"
     ]
    }
   ],
   "source": [
    "#7.Write a Python Program to find even numbers in the list ?\n",
    "def evenNoInList():\n",
    "    in_ele = int(input('Enter the No of elements in a list: '))\n",
    "    in_list = []\n",
    "    even_list = []\n",
    "    for ele in range(in_ele):\n",
    "        in_list.append(int(input('Enter a Element: ')))\n",
    "    for ele in in_list:\n",
    "        if ele%2 == 0:\n",
    "            even_list.append(ele)\n",
    "    print(f'The Even Elements in {in_list} are {even_list}')\n",
    "\n",
    "evenNoInList()"
   ]
  },
  {
   "cell_type": "code",
   "execution_count": 8,
   "id": "1c94f46d-0083-48c4-86b7-ddd7dcef2a58",
   "metadata": {},
   "outputs": [
    {
     "name": "stdin",
     "output_type": "stream",
     "text": [
      "Enter the No of elements in a list:  4\n",
      "Enter a Element:  2\n",
      "Enter a Element:  3\n",
      "Enter a Element:  6\n",
      "Enter a Element:  8\n"
     ]
    },
    {
     "name": "stdout",
     "output_type": "stream",
     "text": [
      "The Even Elements in [2, 3, 6, 8] are [3]\n"
     ]
    }
   ],
   "source": [
    "#8.Write a Python Program to find odd numbers in the list ?\n",
    "def oddNoInList():\n",
    "    in_ele = int(input('Enter the No of elements in a list: '))\n",
    "    in_list = []\n",
    "    odd_list = []\n",
    "    for ele in range(in_ele):\n",
    "        in_list.append(int(input('Enter a Element: ')))\n",
    "    for ele in in_list:\n",
    "        if ele%2 != 0:\n",
    "            odd_list.append(ele)\n",
    "    print(f'The Even Elements in {in_list} are {odd_list}')\n",
    "\n",
    "oddNoInList()"
   ]
  },
  {
   "cell_type": "code",
   "execution_count": 11,
   "id": "4ffce233-3c2b-4dba-8ac5-9aebf682c1c0",
   "metadata": {},
   "outputs": [
    {
     "name": "stdin",
     "output_type": "stream",
     "text": [
      "Enter all elements of the list:  [1,2,3,4,5,[],6,7,8,9,0]\n"
     ]
    },
    {
     "name": "stdout",
     "output_type": "stream",
     "text": [
      "There is an Empty list in [1, 2, 3, 4, 5, [], 6, 7, 8, 9, 0] at Position 5\n",
      "The List after removing [] is [1, 2, 3, 4, 5, 6, 7, 8, 9, 0]\n"
     ]
    }
   ],
   "source": [
    "#9.Write a Python Program to remove empty list from list ?\n",
    "def checkEmptyList():\n",
    "    in_list = eval(input('Enter all elements of the list: '))\n",
    "    if [] in in_list:\n",
    "        print(f'There is an Empty list in {in_list} at Position {in_list.index([])}')\n",
    "        in_list.remove([])\n",
    "        print(f'The List after removing [] is {in_list}')\n",
    "    else:\n",
    "        print(f'There is no [] List in the list {in_list}')\n",
    "        \n",
    "checkEmptyList()"
   ]
  },
  {
   "cell_type": "code",
   "execution_count": 12,
   "id": "c76fbf0c-4960-4ac9-8ff0-873a036f153e",
   "metadata": {},
   "outputs": [
    {
     "name": "stdin",
     "output_type": "stream",
     "text": [
      "Enter a list [1,2,3,4,5,6,7,8,9,0]\n"
     ]
    },
    {
     "name": "stdout",
     "output_type": "stream",
     "text": [
      "[1, 2, 3, 4, 5, 6, 7, 8, 9, 0] 139661886114816\n",
      "[1, 2, 3, 4, 5, 6, 7, 8, 9, 0] 139661886072512\n"
     ]
    }
   ],
   "source": [
    "#10.Write a Python Program to Cloning or Copying a list ?\n",
    "import copy\n",
    "\n",
    "def cloneList():\n",
    "    in_list = eval(input('Enter a list'))\n",
    "    print(in_list, id(in_list))\n",
    "    cloned_list = in_list.copy()\n",
    "    print(cloned_list, id(cloned_list))\n",
    "\n",
    "cloneList()"
   ]
  },
  {
   "cell_type": "code",
   "execution_count": 13,
   "id": "9e9e2f5e-55b9-47ee-9b70-bf81b84b4b1f",
   "metadata": {},
   "outputs": [
    {
     "name": "stdin",
     "output_type": "stream",
     "text": [
      "Enter the elements of the list:  [1,2,3,1,2,3,1,2,3,4,5,6,4,5,6]\n",
      "Enter the element to find:  8\n"
     ]
    },
    {
     "name": "stdout",
     "output_type": "stream",
     "text": [
      "There are 0 occurences of 8 in [1, 2, 3, 1, 2, 3, 1, 2, 3, 4, 5, 6, 4, 5, 6]\n"
     ]
    }
   ],
   "source": [
    "#11.Write a Python Program to count occurences of an element in a list ?\n",
    "def checkOccurence():\n",
    "    in_list = eval(input('Enter the elements of the list: '))\n",
    "    in_num = eval(input('Enter the element to find: '))\n",
    "    count = 0\n",
    "    if in_num in in_list:\n",
    "        for ele in in_list:\n",
    "            if ele == in_num:\n",
    "                count = count+1\n",
    "    print(f'There are {count} occurences of {in_num} in {in_list}')\n",
    "    \n",
    "checkOccurence()"
   ]
  },
  {
   "cell_type": "code",
   "execution_count": null,
   "id": "9e592078-17e8-43e2-a3a8-4eee7f1b0686",
   "metadata": {},
   "outputs": [],
   "source": []
  }
 ],
 "metadata": {
  "kernelspec": {
   "display_name": "Python 3 (ipykernel)",
   "language": "python",
   "name": "python3"
  },
  "language_info": {
   "codemirror_mode": {
    "name": "ipython",
    "version": 3
   },
   "file_extension": ".py",
   "mimetype": "text/x-python",
   "name": "python",
   "nbconvert_exporter": "python",
   "pygments_lexer": "ipython3",
   "version": "3.10.6"
  }
 },
 "nbformat": 4,
 "nbformat_minor": 5
}
